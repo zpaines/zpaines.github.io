{
 "cells": [
  {
   "cell_type": "code",
   "execution_count": 1,
   "metadata": {},
   "outputs": [],
   "source": [
    "numeric_stats = ['derived_fg', 'derived_ft', 'G', 'GS', 'MP', 'FG', 'FGA', 'FG%', '3P', '3PA', '3P%', '2P', '2PA', '2P%', 'eFG%', 'FT', 'FTA', 'FT%', 'ORB', 'DRB', 'TRB', 'AST', 'STL', 'BLK', 'TOV', 'PF', 'PTS']\n",
    "fantasy_stats = ['d_FG%', 'd_FT%', 'FG%', 'FT%','TRB', 'AST', 'STL', 'BLK', 'TOV', '3P', 'PTS']\n",
    "negative_stats = ['FTA', 'TOV', 'FGA']"
   ]
  },
  {
   "cell_type": "code",
   "execution_count": 2,
   "metadata": {},
   "outputs": [],
   "source": [
    "import requests\n",
    "from bs4 import BeautifulSoup\n",
    "import pandas as pd\n",
    "\n",
    "url = 'https://www.basketball-reference.com/leagues/NBA_2021_totals.html'\n",
    "r = requests.get(url)\n",
    "r_html = r.text\n",
    "soup = BeautifulSoup(r_html,'html.parser')"
   ]
  },
  {
   "cell_type": "code",
   "execution_count": 3,
   "metadata": {},
   "outputs": [],
   "source": [
    "table=soup.find_all(class_=\"full_table\")\n",
    "    \n",
    "\"\"\" Extracting List of column names\"\"\"\n",
    "head=soup.find(class_=\"thead\")\n",
    "column_names_raw=[head.text for item in head][0]\n",
    "\n",
    "column_names_polished=column_names_raw.replace(\"\\n\",\",\").split(\",\")[2:-1]"
   ]
  },
  {
   "cell_type": "code",
   "execution_count": 4,
   "metadata": {},
   "outputs": [],
   "source": [
    "players=[]\n",
    "    \n",
    "for i in range(len(table)):    \n",
    "    player_=[]\n",
    "    for td in table[i].find_all(\"td\"):\n",
    "        val = td.text\n",
    "        try:\n",
    "            val = float(td.text)\n",
    "        except ValueError:\n",
    "            pass\n",
    "        player_.append(val)\n",
    "    players.append(player_)\n",
    "    \n",
    "player_stats=pd.DataFrame(players, columns=column_names_polished)"
   ]
  },
  {
   "cell_type": "code",
   "execution_count": 5,
   "metadata": {},
   "outputs": [],
   "source": [
    "import unidecode\n",
    "\n",
    "def name_transform(name):\n",
    "    name = name.split('\\\\')[0].strip()\n",
    "    name = unidecode.unidecode(name)\n",
    "    transforms = {}\n",
    "    transforms['Marcus Morris'] = 'Marcus Morris Sr.'\n",
    "    transforms['Otto Porter'] = 'Otto Porter Jr.'\n",
    "    if name in transforms:\n",
    "        return transforms[name]\n",
    "    return name\n",
    "arr = player_stats\n",
    "arr['Player'] = arr['Player'].transform(name_transform)\n",
    "arr = arr.drop(['GS', 'Age', 'Pos', 'FG%', 'FT%', '2P%', 'eFG%', '3PA', '3P%', '2P', '2PA', 'Tm'], axis=1)\n",
    "arr['FT%'] = arr['FT'] * 100 / arr['FTA']\n",
    "arr['FG%'] = arr['FG'] * 100 / arr['FGA']\n",
    "arr['d_FG%'] = arr['FG'] * (arr['FG%'] - arr['FG%'].mean())\n",
    "arr['d_FT%'] = arr['FT'] * (arr['FT%'] - arr['FT%'].mean())\n",
    "# # arr['TOV'] = -1 * arr['TOV']\n",
    "arr[['TRB', 'AST', 'STL', 'BLK', 'TOV', '3P', 'PTS']] = arr[['TRB', 'AST', 'STL', 'BLK', 'TOV', '3P', 'PTS']].div(arr['G'], axis=0)\n",
    "f = open('../season_stats.csv', 'w')\n",
    "arr.to_csv(f)\n",
    "f.close()"
   ]
  },
  {
   "cell_type": "code",
   "execution_count": null,
   "metadata": {},
   "outputs": [],
   "source": []
  }
 ],
 "metadata": {
  "kernelspec": {
   "display_name": "Python 3",
   "language": "python",
   "name": "python3"
  },
  "language_info": {
   "codemirror_mode": {
    "name": "ipython",
    "version": 3
   },
   "file_extension": ".py",
   "mimetype": "text/x-python",
   "name": "python",
   "nbconvert_exporter": "python",
   "pygments_lexer": "ipython3",
   "version": "3.8.5"
  }
 },
 "nbformat": 4,
 "nbformat_minor": 4
}
