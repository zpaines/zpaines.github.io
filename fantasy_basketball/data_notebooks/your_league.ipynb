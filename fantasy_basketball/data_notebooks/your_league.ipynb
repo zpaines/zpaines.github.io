{
 "cells": [
  {
   "cell_type": "code",
   "execution_count": 1,
   "metadata": {},
   "outputs": [],
   "source": [
    "numeric_stats = ['derived_fg', 'derived_ft', 'G', 'GS', 'MP', 'FG', 'FGA', 'FG%', '3P', '3PA', '3P%', '2P', '2PA', '2P%', 'eFG%', 'FT', 'FTA', 'FT%', 'ORB', 'DRB', 'TRB', 'AST', 'STL', 'BLK', 'TOV', 'PF', 'PTS']\n",
    "fantasy_stats = ['FG', 'FGA', 'FTA', 'FT', 'TRB', 'AST', 'STL', 'BLK', 'TOV', '3P', 'PTS']\n",
    "negative_stats = ['FTA', 'TOV', 'FGA']"
   ]
  },
  {
   "cell_type": "code",
   "execution_count": 2,
   "metadata": {},
   "outputs": [],
   "source": [
    "# Import stats CSV\n",
    "import pandas as pd\n",
    "\n",
    "arr = pd.read_csv('season_stats.csv').set_index('Player')"
   ]
  },
  {
   "cell_type": "code",
   "execution_count": 3,
   "metadata": {},
   "outputs": [],
   "source": [
    "transform_functions = {}\n",
    "for col in arr.iteritems():\n",
    "    stat = col[0]\n",
    "    if stat in numeric_stats:\n",
    "        std_dev = arr[stat].std()\n",
    "        mean = arr[stat].mean()\n",
    "        if stat in negative_stats:\n",
    "            std_dev=std_dev*-1\n",
    "        transform_functions[stat] = lambda val,mean=mean,std_dev=std_dev: (val-mean)*1000/std_dev\n",
    "    else:\n",
    "        transform_functions[stat] = lambda val: val\n",
    "arr = arr.dropna()\n",
    "z_scores = arr.transform(transform_functions)"
   ]
  },
  {
   "cell_type": "code",
   "execution_count": 4,
   "metadata": {},
   "outputs": [],
   "source": [
    "z_scores['zach_points'] = z_scores[fantasy_stats].sum(axis=1)\n",
    "stats = arr[fantasy_stats+['FT%', 'FG%']].copy()\n",
    "stats['total_production'] = z_scores['zach_points']"
   ]
  },
  {
   "cell_type": "code",
   "execution_count": 6,
   "metadata": {},
   "outputs": [],
   "source": [
    "stats.to_json('./player_stats.json', orient='index')"
   ]
  },
  {
   "cell_type": "code",
   "execution_count": null,
   "metadata": {},
   "outputs": [],
   "source": []
  }
 ],
 "metadata": {
  "kernelspec": {
   "display_name": "Python 3",
   "language": "python",
   "name": "python3"
  },
  "language_info": {
   "codemirror_mode": {
    "name": "ipython",
    "version": 3
   },
   "file_extension": ".py",
   "mimetype": "text/x-python",
   "name": "python",
   "nbconvert_exporter": "python",
   "pygments_lexer": "ipython3",
   "version": "3.8.5"
  }
 },
 "nbformat": 4,
 "nbformat_minor": 4
}
