{
 "cells": [
  {
   "cell_type": "code",
   "execution_count": 1,
   "metadata": {},
   "outputs": [],
   "source": [
    "numeric_stats = ['d_FG%', 'd_FT%', 'G', 'GS', 'MP', 'FG', 'FGA', 'FG%', '3P', '3PA', '3P%', '2P', '2PA', '2P%', 'eFG%', 'FT', 'FTA', 'FT%', 'ORB', 'DRB', 'TRB', 'AST', 'STL', 'BLK', 'TOV', 'PF', 'PTS']\n",
    "fantasy_stats = ['d_FG%', 'd_FT%','TRB', 'AST', 'STL', 'BLK', 'TOV', '3P', 'PTS']\n",
    "negative_stats = ['FTA', 'TOV', 'FGA']"
   ]
  },
  {
   "cell_type": "code",
   "execution_count": 2,
   "metadata": {},
   "outputs": [
    {
     "data": {
      "text/plain": [
       "'Otto Porter Jr.'"
      ]
     },
     "execution_count": 2,
     "metadata": {},
     "output_type": "execute_result"
    }
   ],
   "source": [
    "import unidecode\n",
    "\n",
    "def name_transform(name):\n",
    "    name = name.split('\\\\')[0].strip()\n",
    "    name = unidecode.unidecode(name)\n",
    "    transforms = {}\n",
    "    transforms['Marcus Morris'] = 'Marcus Morris Sr.'\n",
    "    transforms['Otto Porter'] = 'Otto Porter Jr.'\n",
    "    if name in transforms:\n",
    "        return transforms[name]\n",
    "    return name\n",
    "name_transform('Otto Porter')"
   ]
  },
  {
   "cell_type": "code",
   "execution_count": 3,
   "metadata": {},
   "outputs": [],
   "source": [
    "# Import stats CSV\n",
    "import pandas as pd\n",
    "\n",
    "arr = pd.read_csv('season_stats.csv').set_index('Player')\n",
    "# arr['Player'] = arr['Player'].transform(name_transform)\n",
    "# arr = arr.drop(['GS', 'Age', 'Pos', 'FG%', 'FT%', '2P%', 'eFG%', '3PA', '3P%', '2P', '2PA', 'Tm'], axis=1)\n",
    "# arr = arr.groupby(arr['Player']).sum()\n",
    "# arr['FT%'] = arr['FT'] * 100 / arr['FTA']\n",
    "# arr['FG%'] = arr['FG'] * 100 / arr['FGA']\n",
    "# arr['derived_fg'] = arr['FG'] * (arr['FG%'] - arr['FG%'].mean())\n",
    "# arr['derived_ft'] = arr['FT'] * (arr['FT%'] - arr['FT%'].mean())\n",
    "# arr[['TRB', 'AST', 'STL', 'BLK', 'TOV', '3P', 'PTS']] = arr[['TRB', 'AST', 'STL', 'BLK', 'TOV', '3P', 'PTS']].div(arr['G'], axis=0)"
   ]
  },
  {
   "cell_type": "code",
   "execution_count": 4,
   "metadata": {},
   "outputs": [],
   "source": [
    "# Import average draft values TSV\n",
    "raw_draft_values = pd.read_csv('draft_values.tsv', sep='\\t')\n",
    "raw_draft_values\n",
    "def transform_name(name):\n",
    "    notes_loc = name.find('Notes')\n",
    "    if notes_loc > -1:\n",
    "        name = name[notes_loc+5:]\n",
    "    note_loc = name.find('Note')\n",
    "    if note_loc > -1:\n",
    "        name = name[note_loc+4:]\n",
    "    names = name.split()\n",
    "    ret = names[0:2]\n",
    "    if (names[2] == 'Jr.' or names[2] == 'Sr.'):\n",
    "        ret = names[0:3]\n",
    "    return ' '.join(ret)\n",
    "\n",
    "def transform_average(val):\n",
    "    val = val[1:]\n",
    "    try:\n",
    "        num_val = float(val)\n",
    "        return num_val\n",
    "    except ValueError:\n",
    "        return 0\n",
    "\n",
    "raw_draft_values['Name'] = raw_draft_values['Name'].transform(transform_name)\n",
    "raw_draft_values['Average'] = raw_draft_values['Average'].transform(transform_average)\n",
    "raw_draft_values = raw_draft_values.set_index('Name')\n",
    "arr = arr.join(raw_draft_values[['Average']])"
   ]
  },
  {
   "cell_type": "code",
   "execution_count": 5,
   "metadata": {},
   "outputs": [],
   "source": [
    "transform_functions = {}\n",
    "for col in arr.iteritems():\n",
    "    stat = col[0]\n",
    "    if stat in numeric_stats:\n",
    "        std_dev = arr[stat].std()\n",
    "        mean = arr[stat].mean()\n",
    "        if stat in negative_stats:\n",
    "            std_dev=std_dev*-1\n",
    "        transform_functions[stat] = lambda val,mean=mean,std_dev=std_dev: (val-mean)*1000/std_dev\n",
    "    else:\n",
    "        transform_functions[stat] = lambda val: val\n",
    "arr = arr.dropna()\n",
    "z_scores = arr.transform(transform_functions)"
   ]
  },
  {
   "cell_type": "code",
   "execution_count": 6,
   "metadata": {},
   "outputs": [],
   "source": [
    "z_scores['zach_points'] = z_scores[fantasy_stats].sum(axis=1)\n",
    "z_scores = z_scores[z_scores.Average != 0]\n",
    "z_scores['points_per_dollar'] = (z_scores['zach_points'])/z_scores['Average']\n",
    "top_players = z_scores.nlargest(200, 'zach_points')[fantasy_stats+['zach_points', 'Average', 'points_per_dollar']]"
   ]
  },
  {
   "cell_type": "code",
   "execution_count": 7,
   "metadata": {},
   "outputs": [],
   "source": [
    "top_players['Name'] = top_players.index"
   ]
  },
  {
   "cell_type": "code",
   "execution_count": 8,
   "metadata": {},
   "outputs": [],
   "source": [
    "top_players.to_json(path_or_buf='./player_data.json', orient='index')"
   ]
  },
  {
   "cell_type": "code",
   "execution_count": null,
   "metadata": {},
   "outputs": [],
   "source": []
  }
 ],
 "metadata": {
  "kernelspec": {
   "display_name": "Python 3",
   "language": "python",
   "name": "python3"
  },
  "language_info": {
   "codemirror_mode": {
    "name": "ipython",
    "version": 3
   },
   "file_extension": ".py",
   "mimetype": "text/x-python",
   "name": "python",
   "nbconvert_exporter": "python",
   "pygments_lexer": "ipython3",
   "version": "3.8.5"
  }
 },
 "nbformat": 4,
 "nbformat_minor": 4
}
