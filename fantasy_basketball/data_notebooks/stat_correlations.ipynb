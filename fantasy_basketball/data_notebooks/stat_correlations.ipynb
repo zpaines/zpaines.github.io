{
 "cells": [
  {
   "cell_type": "code",
   "execution_count": 1,
   "metadata": {},
   "outputs": [],
   "source": [
    "numeric_stats = ['derived_fg', 'derived_ft', 'G', 'GS', 'MP', 'FG', 'FGA', 'FG%', '3P', '3PA', '3P%', '2P', '2PA', '2P%', 'eFG%', 'FT', 'FTA', 'FT%', 'ORB', 'DRB', 'TRB', 'AST', 'STL', 'BLK', 'TOV', 'PF', 'PTS']\n",
    "fantasy_stats = ['d_FG%', 'd_FT%', 'FG%', 'FT%','TRB', 'AST', 'STL', 'BLK', 'TOV', '3P', 'PTS']\n",
    "negative_stats = ['FTA', 'TOV', 'FGA']"
   ]
  },
  {
   "cell_type": "code",
   "execution_count": null,
   "metadata": {},
   "outputs": [],
   "source": []
  },
  {
   "cell_type": "code",
   "execution_count": 2,
   "metadata": {},
   "outputs": [],
   "source": [
    "# Import stats CSV\n",
    "import pandas as pd\n",
    "\n",
    "arr = pd.read_csv('season_stats.csv').set_index('Player')\n",
    "# arr = arr.drop(['Rk', 'GS', 'Age', 'Pos', 'FG%', 'FT%', '2P%', 'eFG%', '3PA', '3P%', '2P', '2PA', 'Tm'], axis=1)\n",
    "# arr = arr.groupby(arr['Player']).sum()\n",
    "# arr['FT%'] = arr['FT'] * 100 / arr['FTA']\n",
    "# arr['FG%'] = arr['FG'] * 100 / arr['FGA']\n",
    "# arr['d_FG%'] = arr['FG'] * (arr['FG%'] - arr['FG%'].mean())\n",
    "# arr['d_FT%'] = arr['FT'] * (arr['FT%'] - arr['FT%'].mean())\n",
    "# # arr['TOV'] = -1 * arr['TOV']\n",
    "# arr[['TRB', 'AST', 'STL', 'BLK', 'TOV', '3P', 'PTS']] = arr[['TRB', 'AST', 'STL', 'BLK', 'TOV', '3P', 'PTS']].div(arr['G'], axis=0)"
   ]
  },
  {
   "cell_type": "code",
   "execution_count": 3,
   "metadata": {},
   "outputs": [],
   "source": [
    "# Import average draft values TSV\n",
    "raw_draft_values = pd.read_csv('draft_values.tsv', sep='\\t')\n",
    "raw_draft_values\n",
    "def transform_name(name):\n",
    "    notes_loc = name.find('Notes')\n",
    "    if notes_loc > -1:\n",
    "        name = name[notes_loc+5:]\n",
    "    note_loc = name.find('Note')\n",
    "    if note_loc > -1:\n",
    "        name = name[note_loc+4:]\n",
    "    names = name.split()\n",
    "    ret = names[0:2]\n",
    "    if (names[2] == 'Jr.' or names[2] == 'Sr.'):\n",
    "        ret = names[0:3]\n",
    "    return ' '.join(ret)\n",
    "\n",
    "def transform_average(val):\n",
    "    val = val[1:]\n",
    "    try:\n",
    "        num_val = float(val)\n",
    "        return num_val\n",
    "    except ValueError:\n",
    "        return 0\n",
    "\n",
    "raw_draft_values['Name'] = raw_draft_values['Name'].transform(transform_name)\n",
    "raw_draft_values['Avg $'] = raw_draft_values['Average'].transform(transform_average)\n",
    "raw_draft_values = raw_draft_values.set_index('Name')\n",
    "arr = arr.join(raw_draft_values[['Avg $']])\n",
    "arr = arr.fillna(0)"
   ]
  },
  {
   "cell_type": "code",
   "execution_count": 7,
   "metadata": {},
   "outputs": [],
   "source": [
    "arr['TOV'] = -1 * arr['TOV']\n",
    "arr[fantasy_stats+['Avg $']].corr().to_json('./correlations.json')\n",
    "arr['TOV'] = -1 * arr['TOV']"
   ]
  },
  {
   "cell_type": "code",
   "execution_count": 9,
   "metadata": {},
   "outputs": [],
   "source": [
    "arr['Name'] = arr.index\n",
    "arr[fantasy_stats+['Name','Avg $']].to_json('./player_stats.json', orient='records')"
   ]
  },
  {
   "cell_type": "code",
   "execution_count": null,
   "metadata": {},
   "outputs": [],
   "source": []
  }
 ],
 "metadata": {
  "kernelspec": {
   "display_name": "Python 3",
   "language": "python",
   "name": "python3"
  },
  "language_info": {
   "codemirror_mode": {
    "name": "ipython",
    "version": 3
   },
   "file_extension": ".py",
   "mimetype": "text/x-python",
   "name": "python",
   "nbconvert_exporter": "python",
   "pygments_lexer": "ipython3",
   "version": "3.8.5"
  }
 },
 "nbformat": 4,
 "nbformat_minor": 4
}
